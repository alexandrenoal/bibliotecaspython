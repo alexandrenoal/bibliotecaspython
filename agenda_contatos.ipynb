{
  "nbformat": 4,
  "nbformat_minor": 0,
  "metadata": {
    "colab": {
      "provenance": [],
      "authorship_tag": "ABX9TyNogRQAqcSjApE+Y/B2uTCi",
      "include_colab_link": true
    },
    "kernelspec": {
      "name": "python3",
      "display_name": "Python 3"
    },
    "language_info": {
      "name": "python"
    }
  },
  "cells": [
    {
      "cell_type": "markdown",
      "metadata": {
        "id": "view-in-github",
        "colab_type": "text"
      },
      "source": [
        "<a href=\"https://colab.research.google.com/github/alexandrenoal/bibliotecaspython/blob/main/agenda_contatos.ipynb\" target=\"_parent\"><img src=\"https://colab.research.google.com/assets/colab-badge.svg\" alt=\"Open In Colab\"/></a>"
      ]
    },
    {
      "cell_type": "code",
      "execution_count": null,
      "metadata": {
        "colab": {
          "base_uri": "https://localhost:8080/"
        },
        "id": "caadqhL27U3A",
        "outputId": "7b953927-1984-40c8-a130-3960cbb62659"
      },
      "outputs": [
        {
          "output_type": "stream",
          "name": "stdout",
          "text": [
            "\n",
            "MENU DE OPÇÕES\n",
            "1. Adicionar um novo contato\n",
            "2. Listar todos os contatos\n",
            "3. Editar contato existente\n",
            "4. Excluir contato\n",
            "0. Sair\n",
            "Escolha uma opção: 1\n",
            "Nome:ale\n",
            "Telefone:12345678\n",
            "[['ale', '12345678']]\n",
            "\n",
            "MENU DE OPÇÕES\n",
            "1. Adicionar um novo contato\n",
            "2. Listar todos os contatos\n",
            "3. Editar contato existente\n",
            "4. Excluir contato\n",
            "0. Sair\n",
            "Escolha uma opção: 2\n",
            "lista de contatos: [['ale', '12345678']]\n",
            "\n",
            "MENU DE OPÇÕES\n",
            "1. Adicionar um novo contato\n",
            "2. Listar todos os contatos\n",
            "3. Editar contato existente\n",
            "4. Excluir contato\n",
            "0. Sair\n"
          ]
        }
      ],
      "source": [
        "def mostrar_menu():\n",
        "    print(\"\\nMENU DE OPÇÕES\")\n",
        "    print(\"1. Adicionar um novo contato\")\n",
        "    print(\"2. Listar todos os contatos\")\n",
        "    print(\"3. Editar contato existente\")\n",
        "    print(\"4. Excluir contato\")\n",
        "    print(\"0. Sair\")\n",
        "\n",
        "contatos = []\n",
        "\n",
        "def executar_opcao(opcao):\n",
        "    if opcao == \"1\":\n",
        "\n",
        "        for x in range(1):\n",
        "            nome = input(\"Nome:\")\n",
        "            telefone = input(\"Telefone:\")\n",
        "            contato = [nome,telefone]\n",
        "            contatos.append(contato)\n",
        "\n",
        "        print(contatos)\n",
        "\n",
        "    elif opcao == \"2\":\n",
        "        print(\"lista de contatos: {}\".format(contatos))\n",
        "\n",
        "    elif opcao == \"3\":\n",
        "        print(\"Editar contato.\")\n",
        "\n",
        "    elif opcao == \"4\":\n",
        "        print(\"Excluir contato.\")\n",
        "\n",
        "    elif opcao == \"0\":\n",
        "        print(\"Saindo do programa...\")\n",
        "    else:\n",
        "        print(\"Opção inválida! Tente novamente.\")\n",
        "\n",
        "\n",
        "while True:\n",
        "    mostrar_menu()\n",
        "    opcao = input(\"Escolha uma opção: \")\n",
        "    if opcao == \"0\":\n",
        "        break\n",
        "    executar_opcao(opcao)"
      ]
    }
  ]
}