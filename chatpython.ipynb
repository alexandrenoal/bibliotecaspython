{
  "nbformat": 4,
  "nbformat_minor": 0,
  "metadata": {
    "colab": {
      "provenance": [],
      "authorship_tag": "ABX9TyO7zUFHvK2ei3hQPgxfr0TB",
      "include_colab_link": true
    },
    "kernelspec": {
      "name": "python3",
      "display_name": "Python 3"
    },
    "language_info": {
      "name": "python"
    }
  },
  "cells": [
    {
      "cell_type": "markdown",
      "metadata": {
        "id": "view-in-github",
        "colab_type": "text"
      },
      "source": [
        "<a href=\"https://colab.research.google.com/github/alexandrenoal/bibliotecaspython/blob/main/chatpython.ipynb\" target=\"_parent\"><img src=\"https://colab.research.google.com/assets/colab-badge.svg\" alt=\"Open In Colab\"/></a>"
      ]
    },
    {
      "cell_type": "code",
      "execution_count": null,
      "metadata": {
        "colab": {
          "base_uri": "https://localhost:8080/"
        },
        "id": "ewY5H1AoeyDF",
        "outputId": "d23ce144-7269-43f7-a774-a8e7d454dded"
      },
      "outputs": [
        {
          "output_type": "stream",
          "name": "stdout",
          "text": [
            "Nome: ale\n",
            "__________________________\n",
            "mensagem: oi\n",
            "ale - oi\n",
            "__________________________\n"
          ]
        }
      ],
      "source": [
        "import os\n",
        "\n",
        "mensagem = []\n",
        "\n",
        "nome = input(\"Nome: \")\n",
        "\n",
        "while True:\n",
        "\n",
        "    #limpando termina\n",
        "    os.system('cls')\n",
        "\n",
        "    if len(mensagem) > 0:\n",
        "        for m in mensagem:\n",
        "            print(m['nome'], \"-\", m['texto'])\n",
        "\n",
        "    print(\"__________________________\")\n",
        "\n",
        "    #obtendo texto\n",
        "    texto = input(\"mensagem: \")\n",
        "    if texto == \"fim\":\n",
        "        break\n",
        "\n",
        "    #adicionando mensagme na lista\n",
        "    mensagem.append({\n",
        "        \"nome\": nome,\n",
        "        \"texto\": texto\n",
        "    })"
      ]
    }
  ]
}