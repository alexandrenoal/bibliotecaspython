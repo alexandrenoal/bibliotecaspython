{
  "nbformat": 4,
  "nbformat_minor": 0,
  "metadata": {
    "colab": {
      "provenance": [],
      "authorship_tag": "ABX9TyPwoIxf4sdd8wtz+2vRz3AI",
      "include_colab_link": true
    },
    "kernelspec": {
      "name": "python3",
      "display_name": "Python 3"
    },
    "language_info": {
      "name": "python"
    }
  },
  "cells": [
    {
      "cell_type": "markdown",
      "metadata": {
        "id": "view-in-github",
        "colab_type": "text"
      },
      "source": [
        "<a href=\"https://colab.research.google.com/github/alexandrenoal/bibliotecaspython/blob/main/estrutura_basica_dicionario.ipynb\" target=\"_parent\"><img src=\"https://colab.research.google.com/assets/colab-badge.svg\" alt=\"Open In Colab\"/></a>"
      ]
    },
    {
      "cell_type": "markdown",
      "source": [
        "Estrutura básica de dicionário sem utilização da funcação"
      ],
      "metadata": {
        "id": "LiuFs24QGb9y"
      }
    },
    {
      "cell_type": "code",
      "source": [
        "pessoa = {'nome': 'Michele', 'idade': 35}\n",
        "\n",
        "pessoa['sobrenome'] = 'Ribeiro'\n",
        "\n",
        "del pessoa['idade']\n",
        "\n",
        "print(pessoa)"
      ],
      "metadata": {
        "colab": {
          "base_uri": "https://localhost:8080/"
        },
        "id": "yocXet4UGZ-q",
        "outputId": "29c79f3a-b3fa-41fa-d416-945f96f739c2"
      },
      "execution_count": 13,
      "outputs": [
        {
          "output_type": "stream",
          "name": "stdout",
          "text": [
            "{'nome': 'Michele', 'sobrenome': 'Ribeiro'}\n"
          ]
        }
      ]
    },
    {
      "cell_type": "markdown",
      "source": [
        "Estrutura básica dicionário com input"
      ],
      "metadata": {
        "id": "rJFFRwneG3bT"
      }
    },
    {
      "cell_type": "code",
      "source": [
        "pessoa = {'nome': ''}\n",
        "\n",
        "pessoa['nome'] = input('Digite seu nome: ')\n",
        "\n",
        "print(pessoa)"
      ],
      "metadata": {
        "colab": {
          "base_uri": "https://localhost:8080/"
        },
        "id": "C-E5xBRmG0wp",
        "outputId": "09a807d4-43ea-45fa-9074-247ed9975032"
      },
      "execution_count": 20,
      "outputs": [
        {
          "output_type": "stream",
          "name": "stdout",
          "text": [
            "Digite seu nome: ale\n",
            "{'nome': 'ale'}\n"
          ]
        }
      ]
    },
    {
      "cell_type": "markdown",
      "source": [
        "adicionando outro elemento ao dicionário através do input"
      ],
      "metadata": {
        "id": "PUQSI_drIdv5"
      }
    },
    {
      "cell_type": "code",
      "source": [
        "pessoa = {}\n",
        "\n",
        "pessoa['nome'] = input('Digite seu nome: ')\n",
        "pessoa['idade'] = input('Digite sua idade: ')\n",
        "print(pessoa)"
      ],
      "metadata": {
        "colab": {
          "base_uri": "https://localhost:8080/"
        },
        "id": "tfve2JVPIc6t",
        "outputId": "b3c55a3d-e7fa-4973-f860-69c3841bcb7f"
      },
      "execution_count": 21,
      "outputs": [
        {
          "output_type": "stream",
          "name": "stdout",
          "text": [
            "Digite seu nome: ale\n",
            "Digite sua idade: 35\n",
            "{'nome': 'ale', 'idade': '35'}\n"
          ]
        }
      ]
    },
    {
      "cell_type": "markdown",
      "source": [
        "Dicionario dentro de uma lista"
      ],
      "metadata": {
        "id": "bN6iO-EcJdSn"
      }
    },
    {
      "cell_type": "code",
      "source": [
        "pessoa = {'alexandre',\n",
        "          'michele',\n",
        "          'elisete',\n",
        "          'edisson'}\n",
        "\n",
        "print(pessoa)\n",
        "\n",
        "carros = {'up',\n",
        "          'gol',\n",
        "          'polo',\n",
        "          'compass'}\n",
        "\n",
        "print(carros)\n",
        "\n",
        "lista = []\n",
        "lista.append(pessoa)\n",
        "lista.append(carros)\n",
        "\n",
        "print(lista)"
      ],
      "metadata": {
        "colab": {
          "base_uri": "https://localhost:8080/"
        },
        "id": "LEeta3tIJAcm",
        "outputId": "8e87dc72-cf78-4dd6-e2b0-7ba99e9171dc"
      },
      "execution_count": 29,
      "outputs": [
        {
          "output_type": "stream",
          "name": "stdout",
          "text": [
            "{'alexandre', 'elisete', 'michele', 'edisson'}\n",
            "{'up', 'polo', 'gol', 'compass'}\n",
            "[{'alexandre', 'elisete', 'michele', 'edisson'}, {'up', 'polo', 'gol', 'compass'}]\n"
          ]
        }
      ]
    },
    {
      "cell_type": "markdown",
      "source": [
        "Função simples para o dicionário:"
      ],
      "metadata": {
        "id": "noAa1yTOftRX"
      }
    },
    {
      "cell_type": "code",
      "execution_count": null,
      "metadata": {
        "colab": {
          "base_uri": "https://localhost:8080/"
        },
        "id": "_P4_PXL1biq5",
        "outputId": "a5b74da3-f3ab-4e74-ff6c-b1dd1d6c6e32"
      },
      "outputs": [
        {
          "output_type": "stream",
          "name": "stdout",
          "text": [
            "{'nome': 'Michele', 'idade': 35}\n"
          ]
        }
      ],
      "source": [
        "def cadastropessoas(nome, idade):\n",
        "  pessoa = {'nome': nome,'idade': idade}\n",
        "  return pessoa\n",
        "\n",
        "pessoa = cadastropessoas('Michele', 35)\n",
        "print(pessoa)\n",
        "\n"
      ]
    },
    {
      "cell_type": "markdown",
      "source": [
        "Função simples do dicionário com adição de input:"
      ],
      "metadata": {
        "id": "TgZzPPIkfzJi"
      }
    },
    {
      "cell_type": "code",
      "source": [
        "def cadastropessoas(nome, idade):\n",
        "  pessoa = {'nome': nome,'idade': idade}\n",
        "  return pessoa\n",
        "\n",
        "nome = input('Digite seu nome: ')\n",
        "idade = int(input('Digite sua idade: '))\n",
        "\n",
        "pessoa = cadastropessoas(nome, idade)\n",
        "print(pessoa)"
      ],
      "metadata": {
        "colab": {
          "base_uri": "https://localhost:8080/"
        },
        "id": "TdwSKzyVfHsl",
        "outputId": "82811ebb-644e-4feb-e642-516a8cf0df2e"
      },
      "execution_count": null,
      "outputs": [
        {
          "output_type": "stream",
          "name": "stdout",
          "text": [
            "Digite seu nome: ale\n",
            "Digite sua idade: 35\n",
            "{'nome': 'ale', 'idade': 35}\n"
          ]
        }
      ]
    },
    {
      "cell_type": "markdown",
      "source": [],
      "metadata": {
        "id": "e0xZENLNf8Rt"
      }
    },
    {
      "cell_type": "code",
      "source": [],
      "metadata": {
        "colab": {
          "base_uri": "https://localhost:8080/"
        },
        "id": "KAIRfLcDfjPL",
        "outputId": "33f7604b-1962-481d-9f7f-da425f40d179"
      },
      "execution_count": 12,
      "outputs": [
        {
          "output_type": "stream",
          "name": "stdout",
          "text": [
            "{'nome': 'Michele', 'sobrenome': 'Rodrigues'}\n"
          ]
        }
      ]
    },
    {
      "cell_type": "code",
      "source": [],
      "metadata": {
        "id": "-gcoUPvNhCXf"
      },
      "execution_count": null,
      "outputs": []
    }
  ]
}