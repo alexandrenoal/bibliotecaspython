{
  "nbformat": 4,
  "nbformat_minor": 0,
  "metadata": {
    "colab": {
      "provenance": [],
      "authorship_tag": "ABX9TyOfg4eUOvVQBgIi/Vw4Kavs",
      "include_colab_link": true
    },
    "kernelspec": {
      "name": "python3",
      "display_name": "Python 3"
    },
    "language_info": {
      "name": "python"
    }
  },
  "cells": [
    {
      "cell_type": "markdown",
      "metadata": {
        "id": "view-in-github",
        "colab_type": "text"
      },
      "source": [
        "<a href=\"https://colab.research.google.com/github/alexandrenoal/bibliotecaspython/blob/main/rpg.ipynb\" target=\"_parent\"><img src=\"https://colab.research.google.com/assets/colab-badge.svg\" alt=\"Open In Colab\"/></a>"
      ]
    },
    {
      "cell_type": "code",
      "execution_count": 1,
      "metadata": {
        "colab": {
          "base_uri": "https://localhost:8080/"
        },
        "id": "pAyJCTLgJTkK",
        "outputId": "d7e100b9-769a-466f-e1cc-bc5c694fadd0"
      },
      "outputs": [
        {
          "output_type": "stream",
          "name": "stdout",
          "text": [
            "Nome: Monstro #43 // Level: 43 // Dano: 215 // HP: 4300\n",
            "Nome: Monstro #6 // Level: 6 // Dano: 30 // HP: 600\n",
            "Nome: Monstro #18 // Level: 18 // Dano: 90 // HP: 1800\n",
            "Nome: Monstro #15 // Level: 15 // Dano: 75 // HP: 1500\n",
            "Nome: Monstro #25 // Level: 25 // Dano: 125 // HP: 2500\n"
          ]
        }
      ],
      "source": [
        "from random import randint\n",
        "\n",
        "lista_npcs = []\n",
        "\n",
        "def criar_npc():\n",
        "    level = randint(0, 50)\n",
        "\n",
        "    novo_npc = {\n",
        "        \"nome\": f\"Monstro #{level}\",\n",
        "        \"level\": level,\n",
        "        \"dano\": 5 * level,\n",
        "        \"hp\": 100 * level,\n",
        "    }\n",
        "\n",
        "    lista_npcs.append(novo_npc)\n",
        "\n",
        "def gerar_npcs(n_npcs):\n",
        "\n",
        "    for x in range(n_npcs):\n",
        "        criar_npc()\n",
        "\n",
        "gerar_npcs(5)\n",
        "\n",
        "for npc in lista_npcs:\n",
        "    print(\n",
        "        f\"Nome: {npc['nome']} // Level: {npc['level']} // Dano: {npc['dano']} // HP: {npc['hp']}\"\n",
        "    )"
      ]
    }
  ]
}