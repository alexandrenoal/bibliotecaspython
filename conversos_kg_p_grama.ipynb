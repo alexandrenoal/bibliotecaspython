{
  "nbformat": 4,
  "nbformat_minor": 0,
  "metadata": {
    "colab": {
      "provenance": [],
      "authorship_tag": "ABX9TyMeO/PA0H6YpSTtMmWSuAE9",
      "include_colab_link": true
    },
    "kernelspec": {
      "name": "python3",
      "display_name": "Python 3"
    },
    "language_info": {
      "name": "python"
    }
  },
  "cells": [
    {
      "cell_type": "markdown",
      "metadata": {
        "id": "view-in-github",
        "colab_type": "text"
      },
      "source": [
        "<a href=\"https://colab.research.google.com/github/alexandrenoal/bibliotecaspython/blob/main/conversos_kg_p_grama.ipynb\" target=\"_parent\"><img src=\"https://colab.research.google.com/assets/colab-badge.svg\" alt=\"Open In Colab\"/></a>"
      ]
    },
    {
      "cell_type": "code",
      "execution_count": 1,
      "metadata": {
        "colab": {
          "base_uri": "https://localhost:8080/"
        },
        "id": "6f3wMnQcOthE",
        "outputId": "693e44ef-b839-48ce-9b69-a949630b90b3"
      },
      "outputs": [
        {
          "output_type": "stream",
          "name": "stdout",
          "text": [
            "Insira o peso em kilogramas:1\n",
            "O peso, em gramas, é: 1000.0\n"
          ]
        }
      ],
      "source": [
        "def convertePeso(q):\n",
        "    return q * 1000\n",
        "\n",
        "pes=float(input(\"Insira o peso em kilogramas:\"))\n",
        "convertePeso(pes)\n",
        "gra=convertePeso(pes)\n",
        "print(\"O peso, em gramas, é:\", gra)"
      ]
    },
    {
      "cell_type": "code",
      "source": [],
      "metadata": {
        "id": "amfV9bcROuK9"
      },
      "execution_count": null,
      "outputs": []
    }
  ]
}