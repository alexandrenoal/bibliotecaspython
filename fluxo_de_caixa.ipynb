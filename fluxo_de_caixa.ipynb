{
  "nbformat": 4,
  "nbformat_minor": 0,
  "metadata": {
    "colab": {
      "provenance": [],
      "authorship_tag": "ABX9TyN5d6GQ7HgCJWxoLpUpz+IL",
      "include_colab_link": true
    },
    "kernelspec": {
      "name": "python3",
      "display_name": "Python 3"
    },
    "language_info": {
      "name": "python"
    }
  },
  "cells": [
    {
      "cell_type": "markdown",
      "metadata": {
        "id": "view-in-github",
        "colab_type": "text"
      },
      "source": [
        "<a href=\"https://colab.research.google.com/github/alexandrenoal/bibliotecaspython/blob/main/fluxo_de_caixa.ipynb\" target=\"_parent\"><img src=\"https://colab.research.google.com/assets/colab-badge.svg\" alt=\"Open In Colab\"/></a>"
      ]
    },
    {
      "cell_type": "code",
      "execution_count": 1,
      "metadata": {
        "colab": {
          "base_uri": "https://localhost:8080/"
        },
        "id": "MgApAWrIUJo_",
        "outputId": "c23f4b33-18ca-4354-9119-1d07957f62f4"
      },
      "outputs": [
        {
          "output_type": "stream",
          "name": "stdout",
          "text": [
            "--------------\n",
            "@ Fluxo Caixa\n",
            "--------------\n",
            "1 - Adicionar receita\n",
            "2 - Adicionar despesa\n",
            "\n",
            "# Digite outro numero para encerrar #\n",
            "\n",
            "Digite a opcao: 1\n",
            "Nome: banana\n",
            "Valor: 2\n",
            "Digite a opcao: 2\n",
            "Nome: maça\n",
            "Valor: -1\n",
            "Digite a opcao: 0\n",
            "Nome:  banana , Valor: R$ 2.0\n",
            "Nome:  maça , Valor: R$ -1.0\n",
            "Saldo atual: R$ 1.0\n"
          ]
        }
      ],
      "source": [
        "fluxo_caixa = []\n",
        "\n",
        "print('--------------')\n",
        "print('@ Fluxo Caixa')\n",
        "print('--------------')\n",
        "print('1 - Adicionar receita')\n",
        "print('2 - Adicionar despesa')\n",
        "print(\"\\n# Digite outro numero para encerrar #\\n\")\n",
        "\n",
        "def adicionar_transação():\n",
        "    nome = input(\"Nome: \")\n",
        "    valor = float(input(\"Valor: \"))\n",
        "    fluxo_caixa.append({\n",
        "            \"nome\": nome,\n",
        "            \"valor\": valor\n",
        "        })\n",
        "\n",
        "while True:\n",
        "\n",
        "    opcao = int(input(\"Digite a opcao: \"))\n",
        "\n",
        "    if opcao == 1:\n",
        "        adicionar_transação()\n",
        "    elif opcao == 2:\n",
        "        adicionar_transação()\n",
        "    else:\n",
        "        break\n",
        "\n",
        "# nota fistal\n",
        "total = 0\n",
        "for fc in fluxo_caixa:\n",
        "    print(\"Nome: \", fc['nome'], \", Valor: R$\", fc['valor'] )\n",
        "    total = total + fc['valor']\n",
        "\n",
        "print(\"Saldo atual: R$\", total)\n"
      ]
    }
  ]
}