{
  "nbformat": 4,
  "nbformat_minor": 0,
  "metadata": {
    "colab": {
      "provenance": [],
      "toc_visible": true,
      "authorship_tag": "ABX9TyMZ2vyJ7I3Ucudgi0H4Xdx1",
      "include_colab_link": true
    },
    "kernelspec": {
      "name": "python3",
      "display_name": "Python 3"
    },
    "language_info": {
      "name": "python"
    }
  },
  "cells": [
    {
      "cell_type": "markdown",
      "metadata": {
        "id": "view-in-github",
        "colab_type": "text"
      },
      "source": [
        "<a href=\"https://colab.research.google.com/github/alexandrenoal/bibliotecaspython/blob/main/aulas.ipynb\" target=\"_parent\"><img src=\"https://colab.research.google.com/assets/colab-badge.svg\" alt=\"Open In Colab\"/></a>"
      ]
    },
    {
      "cell_type": "code",
      "source": [
        "vet=[1,2,4,5,6,7,8,9,0]\n",
        "print(\"Digite o número que deseja buscar: \")\n",
        "num=int(input())\n",
        "i = int(0)\n",
        "encontrou =bool(0)\n",
        "while(i<10 and encontrou == 0):\n",
        "    if(num == vet[i]):\n",
        "        encontrou = 1\n",
        "    else:\n",
        "        i+=1\n",
        "if(encontrou == 1):\n",
        "    print(\"O elemento foi encontrado na posição\", i)\n",
        "else:\n",
        "    print(\"O elemento não foi encontrado\")"
      ],
      "metadata": {
        "colab": {
          "base_uri": "https://localhost:8080/"
        },
        "id": "mtvIh4NDt6n2",
        "outputId": "8812b0ae-17bf-4a6c-fb02-be5d63b17cc4"
      },
      "execution_count": null,
      "outputs": [
        {
          "output_type": "stream",
          "name": "stdout",
          "text": [
            "Digite o número que deseja buscar: \n",
            "1\n",
            "O elemento foi encontrado na posição 0\n"
          ]
        }
      ]
    },
    {
      "cell_type": "code",
      "source": [
        "first = int(input(\"Enter the first number: \"))\n"
      ],
      "metadata": {
        "colab": {
          "base_uri": "https://localhost:8080/"
        },
        "id": "0BG4gofrvYaC",
        "outputId": "2c4aed7c-4506-46a1-992a-cf59f69b8cdf"
      },
      "execution_count": null,
      "outputs": [
        {
          "name": "stdout",
          "output_type": "stream",
          "text": [
            "Enter the first number: 1\n"
          ]
        }
      ]
    },
    {
      "cell_type": "code",
      "source": [
        "Num=int(input(\"Insira o número de vezes que deseja imprimir: \"))\n",
        "for i in range (Num):\n",
        "    print(\"ALGORITMOS.\\n\")"
      ],
      "metadata": {
        "colab": {
          "base_uri": "https://localhost:8080/"
        },
        "id": "_6fQrCGszhLE",
        "outputId": "9d9c58f9-e8bf-492b-f009-1711f10cc4ca"
      },
      "execution_count": null,
      "outputs": [
        {
          "name": "stdout",
          "output_type": "stream",
          "text": [
            "Insira o número de vezes que deseja imprimir: 0\n"
          ]
        }
      ]
    },
    {
      "cell_type": "code",
      "source": [
        "def fib(x):\n",
        "    if(x == 0 or x == 1):\n",
        "        return x\n",
        "    else:\n",
        "        return fib(x-2) + fib(x-1)\n",
        "\n",
        "n = 7\n",
        "resultado = fib(n)\n",
        "print(resultado)"
      ],
      "metadata": {
        "colab": {
          "base_uri": "https://localhost:8080/"
        },
        "id": "NJjlggdK0YZO",
        "outputId": "1d785042-94f8-421d-9ca8-5c5dfc46ebe4"
      },
      "execution_count": null,
      "outputs": [
        {
          "output_type": "stream",
          "name": "stdout",
          "text": [
            "13\n"
          ]
        }
      ]
    },
    {
      "cell_type": "code",
      "source": [
        "x = 5\n",
        "y = 10\n",
        "z = 10\n",
        "\n",
        "if (x <= 10):\n",
        " if (y <= 10):\n",
        "  if (z <= 10):\n",
        "            print(x, y, z)"
      ],
      "metadata": {
        "colab": {
          "base_uri": "https://localhost:8080/"
        },
        "id": "wB-cjDEg6EiU",
        "outputId": "ac82590d-c884-486f-c242-9820e5a780c2"
      },
      "execution_count": null,
      "outputs": [
        {
          "output_type": "stream",
          "name": "stdout",
          "text": [
            "5 10 10\n"
          ]
        }
      ]
    },
    {
      "cell_type": "code",
      "source": [
        "def ObtemRegiao(uf):\n",
        "    if (uf == \"PA\") or (uf == \"AM\") or (uf == \"AP\") or (uf == \"RR\") or (uf == \"AC\") or (uf == \"RO\") or (uf == \"TO\"):\n",
        "        x = \"Norte\"\n",
        "    if (uf == \"BA\") or (uf == \"SE\") or (uf == \"AL\") or (uf == \"PE\") or (uf == \"PB\") or (uf == \"RN\") or (uf == \"CE\") or (uf == \"PI\") or (uf == \"MA\"):\n",
        "        x = \"Nordeste\"\n",
        "    if (uf == \"GO\") or (uf == \"MT\") or (uf == \"MS\") or (uf == \"DF\"):\n",
        "        x = \"Centro-Oeste\"\n",
        "    if (uf == \"SP\") or (uf == \"RJ\") or (uf == \"ES\") or (uf == \"MG\"):\n",
        "        x = \"Sudeste\"\n",
        "    if (uf == \"PR\") or (uf == \"SC\") or (uf == \"RS\"):\n",
        "        x = \"Sul\"\n",
        "    return x\n",
        "\n",
        "uf=str(input(\"Digite um Estado: \"))\n",
        "regiao=ObtemRegiao(uf)\n",
        "print(\"Região do Estado: \", regiao)"
      ],
      "metadata": {
        "id": "KuUZWSm_7WaD",
        "colab": {
          "base_uri": "https://localhost:8080/"
        },
        "outputId": "0893ace6-9084-42e2-a442-cdd62a85ecaf"
      },
      "execution_count": 10,
      "outputs": [
        {
          "output_type": "stream",
          "name": "stdout",
          "text": [
            "Digite um Estado: RS\n",
            "Região do Estado:  Sul\n"
          ]
        }
      ]
    },
    {
      "cell_type": "code",
      "source": [
        "def soma ():\n",
        "    num1=float(); num2=float(); total=float()\n",
        "    print(\"Digite o primeiro numero :\")\n",
        "    num1=float(input())\n",
        "    print(\"Digite o segundo numero :\")\n",
        "    num2=float(input())\n",
        "    total = num1 + num2\n",
        "    print(\"A soma e \", total)\n",
        "    return (0)"
      ],
      "metadata": {
        "id": "YAqv3Zu1O0QN"
      },
      "execution_count": 15,
      "outputs": []
    },
    {
      "cell_type": "code",
      "source": [
        "x = -1\n",
        "resultado = 0\n",
        "for i in range(10):\n",
        "     while(x<1):\n",
        "         print(\"Insira um valor: \", end=\"\")\n",
        "         x=int(input())\n",
        "     resultado = resultado * x\n",
        "     print(resultado)"
      ],
      "metadata": {
        "colab": {
          "base_uri": "https://localhost:8080/"
        },
        "id": "BYE-6JW4R9En",
        "outputId": "481cc9dc-6ac0-4648-dc8a-27de4ac1bffc"
      },
      "execution_count": 20,
      "outputs": [
        {
          "output_type": "stream",
          "name": "stdout",
          "text": [
            "Insira um valor: -1\n",
            "Insira um valor: -2\n",
            "Insira um valor: 2\n",
            "0\n",
            "0\n",
            "0\n",
            "0\n",
            "0\n",
            "0\n",
            "0\n",
            "0\n",
            "0\n",
            "0\n"
          ]
        }
      ]
    },
    {
      "cell_type": "code",
      "source": [
        "AutonomiaVeiculo=int(input(\"Autonomia do Veiculo: \"))\n",
        "kmPercorrer=int(input(\"km a Percorrer: \"))\n",
        "precoCombustivel=float(input(\"Preço do Combustivel: \"))\n",
        "custoViagem = float(((kmPercorrer * 2) / AutonomiaVeiculo) * precoCombustivel)\n",
        "\n",
        "print(\"Km a percorrer\", kmPercorrer * 2)\n",
        "print(\"Litros gastos\", (kmPercorrer * 2) / AutonomiaVeiculo)\n",
        "print(\"Custo da Viagem R$ \", custoViagem)"
      ],
      "metadata": {
        "colab": {
          "base_uri": "https://localhost:8080/"
        },
        "id": "q4ggcQV6aGC4",
        "outputId": "d34ead28-9273-4c3f-c828-d80d802c32cb"
      },
      "execution_count": 1,
      "outputs": [
        {
          "output_type": "stream",
          "name": "stdout",
          "text": [
            "Autonomia do Veiculo: 14\n",
            "km a Percorrer: 100\n",
            "Preço do Combustivel: 6\n",
            "Km a percorrer 200\n",
            "Litros gastos 14.285714285714286\n",
            "Custo da Viagem R$  85.71428571428572\n"
          ]
        }
      ]
    },
    {
      "cell_type": "code",
      "source": [
        "nivelAgua= 0;\n",
        "print(\"Nível da Água =\", nivelAgua);\n",
        "while(nivelAgua < 100):  nivelAgua+=1;\n",
        "print(\"Nível da Água =\", nivelAgua);\n",
        ""
      ],
      "metadata": {
        "colab": {
          "base_uri": "https://localhost:8080/"
        },
        "id": "Zccev06lIZLn",
        "outputId": "223e0c0d-58ed-4446-db6a-7cb014792236"
      },
      "execution_count": 17,
      "outputs": [
        {
          "output_type": "stream",
          "name": "stdout",
          "text": [
            "Nível da Água = 0\n",
            "Nível da Água = 100\n"
          ]
        }
      ]
    },
    {
      "cell_type": "code",
      "source": [],
      "metadata": {
        "id": "NC70Tx8kIuAv"
      },
      "execution_count": null,
      "outputs": []
    }
  ]
}