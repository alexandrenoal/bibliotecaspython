{
  "nbformat": 4,
  "nbformat_minor": 0,
  "metadata": {
    "colab": {
      "provenance": [],
      "authorship_tag": "ABX9TyNkt8A1SWGDvhJdmt+IV/Fh",
      "include_colab_link": true
    },
    "kernelspec": {
      "name": "python3",
      "display_name": "Python 3"
    },
    "language_info": {
      "name": "python"
    }
  },
  "cells": [
    {
      "cell_type": "markdown",
      "metadata": {
        "id": "view-in-github",
        "colab_type": "text"
      },
      "source": [
        "<a href=\"https://colab.research.google.com/github/alexandrenoal/bibliotecaspython/blob/main/ordemLalfabetica_itens_da_lista.ipynb\" target=\"_parent\"><img src=\"https://colab.research.google.com/assets/colab-badge.svg\" alt=\"Open In Colab\"/></a>"
      ]
    },
    {
      "cell_type": "code",
      "execution_count": null,
      "metadata": {
        "colab": {
          "base_uri": "https://localhost:8080/"
        },
        "id": "DKEoY0AyIvCk",
        "outputId": "ebc50835-17b0-423a-b99c-1707adb00ac8"
      },
      "outputs": [
        {
          "output_type": "stream",
          "name": "stdout",
          "text": [
            "\n",
            "MENU DE OPÇÕES\n",
            "1. Digite um nome para a lista\n",
            "2. Exibir lista\n",
            "3. Exibir lista em ordem alfabética\n",
            "0. Sair\n",
            "Escolha uma opção: 1\n",
            "Digite um nome: ale\n",
            "['ale']\n",
            "\n",
            "MENU DE OPÇÕES\n",
            "1. Digite um nome para a lista\n",
            "2. Exibir lista\n",
            "3. Exibir lista em ordem alfabética\n",
            "0. Sair\n",
            "Escolha uma opção: 1\n",
            "Digite um nome: carol\n",
            "['ale', 'carol']\n",
            "\n",
            "MENU DE OPÇÕES\n",
            "1. Digite um nome para a lista\n",
            "2. Exibir lista\n",
            "3. Exibir lista em ordem alfabética\n",
            "0. Sair\n",
            "Escolha uma opção: 1\n",
            "Digite um nome: bru\n",
            "['ale', 'carol', 'bru']\n",
            "\n",
            "MENU DE OPÇÕES\n",
            "1. Digite um nome para a lista\n",
            "2. Exibir lista\n",
            "3. Exibir lista em ordem alfabética\n",
            "0. Sair\n",
            "Escolha uma opção: 1\n",
            "Digite um nome: dani\n",
            "['ale', 'carol', 'bru', 'dani']\n",
            "\n",
            "MENU DE OPÇÕES\n",
            "1. Digite um nome para a lista\n",
            "2. Exibir lista\n",
            "3. Exibir lista em ordem alfabética\n",
            "0. Sair\n",
            "Escolha uma opção: 2\n",
            "['ale', 'carol', 'bru', 'dani']\n",
            "\n",
            "MENU DE OPÇÕES\n",
            "1. Digite um nome para a lista\n",
            "2. Exibir lista\n",
            "3. Exibir lista em ordem alfabética\n",
            "0. Sair\n",
            "Escolha uma opção: 3\n",
            "['ale', 'bru', 'carol', 'dani']\n",
            "\n",
            "MENU DE OPÇÕES\n",
            "1. Digite um nome para a lista\n",
            "2. Exibir lista\n",
            "3. Exibir lista em ordem alfabética\n",
            "0. Sair\n"
          ]
        }
      ],
      "source": [
        "# Criação de lista em ordem alfabética\n",
        "\n",
        "lista = []\n",
        "\n",
        "def mostrar_menu():\n",
        "    print(\"\\nMENU DE OPÇÕES\")\n",
        "    print(\"1. Digite um nome para a lista\")\n",
        "    print(\"2. Exibir lista\")\n",
        "    print(\"3. Exibir lista em ordem alfabética\")\n",
        "    print(\"0. Sair\")\n",
        "\n",
        "def executar_opcao(opcao):\n",
        "    if opcao == \"1\":\n",
        "        nome = input(\"Digite um nome: \")\n",
        "        lista.append(nome)\n",
        "        print(lista)\n",
        "    elif opcao == \"2\":\n",
        "        print(lista)\n",
        "    elif opcao == \"3\":\n",
        "        ordem_alfabetica = lista\n",
        "        ordem_alfabetica.sort()\n",
        "        print(ordem_alfabetica)\n",
        "    elif opcao == \"0\":\n",
        "        print(\"Saindo do programa...\")\n",
        "    else:\n",
        "        print(\"Opção inválida! Tente novamente.\")\n",
        "\n",
        "while True:\n",
        "    mostrar_menu()\n",
        "    opcao = input(\"Escolha uma opção: \")\n",
        "    if opcao == \"0\":\n",
        "        break\n",
        "    executar_opcao(opcao)"
      ]
    }
  ]
}